{
 "cells": [
  {
   "cell_type": "code",
   "execution_count": 2,
   "metadata": {},
   "outputs": [],
   "source": [
    "# import the necessary libraries you need for your analysis\n",
    "import pandas as pd\n",
    "import numpy as np\n",
    "import matplotlib.pyplot as plt\n",
    "import seaborn as sns\n",
    "import chardet\n"
   ]
  },
  {
   "cell_type": "code",
   "execution_count": 3,
   "metadata": {},
   "outputs": [],
   "source": [
    "# read in csv file with no encoding\n",
    "data_students = pd.read_csv(\"data/students_länder.csv\")\n",
    "\n"
   ]
  },
  {
   "cell_type": "code",
   "execution_count": 4,
   "metadata": {},
   "outputs": [
    {
     "data": {
      "text/plain": [
       "Index(['Unnamed: 0', 'Unnamed: 1', 'Unnamed: 2', 'Unnamed: 3', 'Germans',\n",
       "       'Germans.1', 'Germans.2', 'Foreigners', 'Foreigners.1', 'Foreigners.2',\n",
       "       'Total', 'Total.1', 'Total.2'],\n",
       "      dtype='object')"
      ]
     },
     "execution_count": 4,
     "metadata": {},
     "output_type": "execute_result"
    }
   ],
   "source": [
    "data_students.columns"
   ]
  },
  {
   "cell_type": "code",
   "execution_count": 5,
   "metadata": {},
   "outputs": [],
   "source": [
    "# drop columns we don't need\n",
    "data_students.drop([\"Germans\",\"Germans.1\",\"Germans.2\", \"Foreigners\", \"Foreigners.1\", \"Foreigners.2\"], axis=1, inplace=True)"
   ]
  },
  {
   "cell_type": "code",
   "execution_count": 6,
   "metadata": {},
   "outputs": [
    {
     "data": {
      "text/plain": [
       "Index(['Unnamed: 0', 'Unnamed: 1', 'Unnamed: 2', 'Unnamed: 3', 'Total',\n",
       "       'Total.1', 'Total.2'],\n",
       "      dtype='object')"
      ]
     },
     "execution_count": 6,
     "metadata": {},
     "output_type": "execute_result"
    }
   ],
   "source": [
    "#check the current columns\n",
    "data_students.columns"
   ]
  },
  {
   "cell_type": "code",
   "execution_count": 7,
   "metadata": {},
   "outputs": [],
   "source": [
    "#rename the columns\n",
    "data_students.rename(columns={'Unnamed: 0': 'semester', 'Unnamed: 1':'federal_state', 'Unnamed: 2':'study_code', 'Unnamed: 3': 'study_subject', 'Total': 'total_males', 'Total.1': 'total_females', 'Total.2': 'total_all'}, inplace=True)"
   ]
  },
  {
   "cell_type": "code",
   "execution_count": 8,
   "metadata": {},
   "outputs": [
    {
     "data": {
      "text/plain": [
       "Index(['semester', 'federal_state', 'study_code', 'study_subject',\n",
       "       'total_males', 'total_females', 'total_all'],\n",
       "      dtype='object')"
      ]
     },
     "execution_count": 8,
     "metadata": {},
     "output_type": "execute_result"
    }
   ],
   "source": [
    "data_students.columns"
   ]
  },
  {
   "cell_type": "code",
   "execution_count": 9,
   "metadata": {},
   "outputs": [
    {
     "name": "stdout",
     "output_type": "stream",
     "text": [
      "<class 'pandas.core.frame.DataFrame'>\n",
      "RangeIndex: 18756 entries, 0 to 18755\n",
      "Data columns (total 7 columns):\n",
      " #   Column         Non-Null Count  Dtype \n",
      "---  ------         --------------  ----- \n",
      " 0   semester       18755 non-null  object\n",
      " 1   federal_state  18752 non-null  object\n",
      " 2   study_code     18752 non-null  object\n",
      " 3   study_subject  18752 non-null  object\n",
      " 4   total_males    18753 non-null  object\n",
      " 5   total_females  18753 non-null  object\n",
      " 6   total_all      18753 non-null  object\n",
      "dtypes: object(7)\n",
      "memory usage: 1.0+ MB\n"
     ]
    }
   ],
   "source": [
    "data_students.info()"
   ]
  },
  {
   "cell_type": "code",
   "execution_count": 10,
   "metadata": {},
   "outputs": [
    {
     "data": {
      "text/html": [
       "<div>\n",
       "<style scoped>\n",
       "    .dataframe tbody tr th:only-of-type {\n",
       "        vertical-align: middle;\n",
       "    }\n",
       "\n",
       "    .dataframe tbody tr th {\n",
       "        vertical-align: top;\n",
       "    }\n",
       "\n",
       "    .dataframe thead th {\n",
       "        text-align: right;\n",
       "    }\n",
       "</style>\n",
       "<table border=\"1\" class=\"dataframe\">\n",
       "  <thead>\n",
       "    <tr style=\"text-align: right;\">\n",
       "      <th></th>\n",
       "      <th>semester</th>\n",
       "      <th>federal_state</th>\n",
       "      <th>study_code</th>\n",
       "      <th>study_subject</th>\n",
       "      <th>total_males</th>\n",
       "      <th>total_females</th>\n",
       "      <th>total_all</th>\n",
       "    </tr>\n",
       "  </thead>\n",
       "  <tbody>\n",
       "    <tr>\n",
       "      <th>0</th>\n",
       "      <td>NaN</td>\n",
       "      <td>NaN</td>\n",
       "      <td>NaN</td>\n",
       "      <td>NaN</td>\n",
       "      <td>Male</td>\n",
       "      <td>Female</td>\n",
       "      <td>Total</td>\n",
       "    </tr>\n",
       "    <tr>\n",
       "      <th>1</th>\n",
       "      <td>WT 2018/19</td>\n",
       "      <td>Baden-Württemberg</td>\n",
       "      <td>SF141</td>\n",
       "      <td>Waste Management</td>\n",
       "      <td>-</td>\n",
       "      <td>-</td>\n",
       "      <td>-</td>\n",
       "    </tr>\n",
       "    <tr>\n",
       "      <th>2</th>\n",
       "      <td>WT 2018/19</td>\n",
       "      <td>Baden-Württemberg</td>\n",
       "      <td>SF002</td>\n",
       "      <td>African Studies</td>\n",
       "      <td>-</td>\n",
       "      <td>-</td>\n",
       "      <td>-</td>\n",
       "    </tr>\n",
       "    <tr>\n",
       "      <th>3</th>\n",
       "      <td>WT 2018/19</td>\n",
       "      <td>Baden-Württemberg</td>\n",
       "      <td>SF138</td>\n",
       "      <td>Agricultural Biology</td>\n",
       "      <td>29</td>\n",
       "      <td>50</td>\n",
       "      <td>79</td>\n",
       "    </tr>\n",
       "    <tr>\n",
       "      <th>4</th>\n",
       "      <td>WT 2018/19</td>\n",
       "      <td>Baden-Württemberg</td>\n",
       "      <td>SF125</td>\n",
       "      <td>Agricultural Economics</td>\n",
       "      <td>4</td>\n",
       "      <td>5</td>\n",
       "      <td>9</td>\n",
       "    </tr>\n",
       "  </tbody>\n",
       "</table>\n",
       "</div>"
      ],
      "text/plain": [
       "     semester      federal_state study_code           study_subject  \\\n",
       "0         NaN                NaN        NaN                     NaN   \n",
       "1  WT 2018/19  Baden-Württemberg      SF141        Waste Management   \n",
       "2  WT 2018/19  Baden-Württemberg      SF002         African Studies   \n",
       "3  WT 2018/19  Baden-Württemberg      SF138    Agricultural Biology   \n",
       "4  WT 2018/19  Baden-Württemberg      SF125  Agricultural Economics   \n",
       "\n",
       "  total_males total_females total_all  \n",
       "0        Male        Female     Total  \n",
       "1           -             -         -  \n",
       "2           -             -         -  \n",
       "3          29            50        79  \n",
       "4           4             5         9  "
      ]
     },
     "execution_count": 10,
     "metadata": {},
     "output_type": "execute_result"
    }
   ],
   "source": [
    "data_students.head(5)"
   ]
  },
  {
   "cell_type": "code",
   "execution_count": 11,
   "metadata": {},
   "outputs": [],
   "source": [
    "data_students.replace('-', np.nan, inplace=True)"
   ]
  },
  {
   "cell_type": "code",
   "execution_count": 12,
   "metadata": {},
   "outputs": [
    {
     "data": {
      "text/html": [
       "<div>\n",
       "<style scoped>\n",
       "    .dataframe tbody tr th:only-of-type {\n",
       "        vertical-align: middle;\n",
       "    }\n",
       "\n",
       "    .dataframe tbody tr th {\n",
       "        vertical-align: top;\n",
       "    }\n",
       "\n",
       "    .dataframe thead th {\n",
       "        text-align: right;\n",
       "    }\n",
       "</style>\n",
       "<table border=\"1\" class=\"dataframe\">\n",
       "  <thead>\n",
       "    <tr style=\"text-align: right;\">\n",
       "      <th></th>\n",
       "      <th>semester</th>\n",
       "      <th>federal_state</th>\n",
       "      <th>study_code</th>\n",
       "      <th>study_subject</th>\n",
       "      <th>total_males</th>\n",
       "      <th>total_females</th>\n",
       "      <th>total_all</th>\n",
       "    </tr>\n",
       "  </thead>\n",
       "  <tbody>\n",
       "    <tr>\n",
       "      <th>0</th>\n",
       "      <td>NaN</td>\n",
       "      <td>NaN</td>\n",
       "      <td>NaN</td>\n",
       "      <td>NaN</td>\n",
       "      <td>Male</td>\n",
       "      <td>Female</td>\n",
       "      <td>Total</td>\n",
       "    </tr>\n",
       "    <tr>\n",
       "      <th>1</th>\n",
       "      <td>WT 2018/19</td>\n",
       "      <td>Baden-Württemberg</td>\n",
       "      <td>SF141</td>\n",
       "      <td>Waste Management</td>\n",
       "      <td>NaN</td>\n",
       "      <td>NaN</td>\n",
       "      <td>NaN</td>\n",
       "    </tr>\n",
       "    <tr>\n",
       "      <th>2</th>\n",
       "      <td>WT 2018/19</td>\n",
       "      <td>Baden-Württemberg</td>\n",
       "      <td>SF002</td>\n",
       "      <td>African Studies</td>\n",
       "      <td>NaN</td>\n",
       "      <td>NaN</td>\n",
       "      <td>NaN</td>\n",
       "    </tr>\n",
       "    <tr>\n",
       "      <th>3</th>\n",
       "      <td>WT 2018/19</td>\n",
       "      <td>Baden-Württemberg</td>\n",
       "      <td>SF138</td>\n",
       "      <td>Agricultural Biology</td>\n",
       "      <td>29</td>\n",
       "      <td>50</td>\n",
       "      <td>79</td>\n",
       "    </tr>\n",
       "    <tr>\n",
       "      <th>4</th>\n",
       "      <td>WT 2018/19</td>\n",
       "      <td>Baden-Württemberg</td>\n",
       "      <td>SF125</td>\n",
       "      <td>Agricultural Economics</td>\n",
       "      <td>4</td>\n",
       "      <td>5</td>\n",
       "      <td>9</td>\n",
       "    </tr>\n",
       "  </tbody>\n",
       "</table>\n",
       "</div>"
      ],
      "text/plain": [
       "     semester      federal_state study_code           study_subject  \\\n",
       "0         NaN                NaN        NaN                     NaN   \n",
       "1  WT 2018/19  Baden-Württemberg      SF141        Waste Management   \n",
       "2  WT 2018/19  Baden-Württemberg      SF002         African Studies   \n",
       "3  WT 2018/19  Baden-Württemberg      SF138    Agricultural Biology   \n",
       "4  WT 2018/19  Baden-Württemberg      SF125  Agricultural Economics   \n",
       "\n",
       "  total_males total_females total_all  \n",
       "0        Male        Female     Total  \n",
       "1         NaN           NaN       NaN  \n",
       "2         NaN           NaN       NaN  \n",
       "3          29            50        79  \n",
       "4           4             5         9  "
      ]
     },
     "execution_count": 12,
     "metadata": {},
     "output_type": "execute_result"
    }
   ],
   "source": [
    "data_students.head()"
   ]
  },
  {
   "cell_type": "code",
   "execution_count": 13,
   "metadata": {},
   "outputs": [],
   "source": [
    "# drop null values\n",
    "data_students.dropna(inplace=True)"
   ]
  },
  {
   "cell_type": "code",
   "execution_count": 14,
   "metadata": {},
   "outputs": [
    {
     "name": "stdout",
     "output_type": "stream",
     "text": [
      "<class 'pandas.core.frame.DataFrame'>\n",
      "Int64Index: 8330 entries, 3 to 18751\n",
      "Data columns (total 7 columns):\n",
      " #   Column         Non-Null Count  Dtype \n",
      "---  ------         --------------  ----- \n",
      " 0   semester       8330 non-null   object\n",
      " 1   federal_state  8330 non-null   object\n",
      " 2   study_code     8330 non-null   object\n",
      " 3   study_subject  8330 non-null   object\n",
      " 4   total_males    8330 non-null   object\n",
      " 5   total_females  8330 non-null   object\n",
      " 6   total_all      8330 non-null   object\n",
      "dtypes: object(7)\n",
      "memory usage: 520.6+ KB\n"
     ]
    }
   ],
   "source": [
    "data_students.info()"
   ]
  },
  {
   "cell_type": "code",
   "execution_count": 15,
   "metadata": {},
   "outputs": [],
   "source": [
    "#turn the student numbers into integer\n",
    "data_students['total_all'] = pd.to_numeric(data_students['total_all'], errors='coerce')\n",
    "data_students['total_males'] = pd.to_numeric(data_students['total_males'], errors='coerce')\n",
    "data_students['total_females'] = pd.to_numeric(data_students['total_females'], errors='coerce')"
   ]
  },
  {
   "cell_type": "code",
   "execution_count": 16,
   "metadata": {},
   "outputs": [
    {
     "name": "stdout",
     "output_type": "stream",
     "text": [
      "<class 'pandas.core.frame.DataFrame'>\n",
      "Int64Index: 8330 entries, 3 to 18751\n",
      "Data columns (total 7 columns):\n",
      " #   Column         Non-Null Count  Dtype \n",
      "---  ------         --------------  ----- \n",
      " 0   semester       8330 non-null   object\n",
      " 1   federal_state  8330 non-null   object\n",
      " 2   study_code     8330 non-null   object\n",
      " 3   study_subject  8330 non-null   object\n",
      " 4   total_males    8330 non-null   int64 \n",
      " 5   total_females  8330 non-null   int64 \n",
      " 6   total_all      8330 non-null   int64 \n",
      "dtypes: int64(3), object(4)\n",
      "memory usage: 520.6+ KB\n"
     ]
    }
   ],
   "source": [
    "data_students.info()"
   ]
  },
  {
   "cell_type": "code",
   "execution_count": 17,
   "metadata": {},
   "outputs": [
    {
     "data": {
      "text/plain": [
       "array(['WT 2018/19', 'WT 2019/20', 'WT 2020/21', 'WT 2021/22'],\n",
       "      dtype=object)"
      ]
     },
     "execution_count": 17,
     "metadata": {},
     "output_type": "execute_result"
    }
   ],
   "source": [
    "data_students['semester'].unique()"
   ]
  },
  {
   "cell_type": "code",
   "execution_count": 18,
   "metadata": {},
   "outputs": [
    {
     "data": {
      "text/plain": [
       "array(['Baden-Württemberg', 'Bayern', 'Berlin', 'Brandenburg', 'Bremen',\n",
       "       'Hamburg', 'Hessen', 'Mecklenburg-Vorpommern', 'Niedersachsen',\n",
       "       'Nordrhein-Westfalen', 'Rheinland-Pfalz', 'Saarland', 'Sachsen',\n",
       "       'Sachsen-Anhalt', 'Schleswig-Holstein', 'Thüringen'], dtype=object)"
      ]
     },
     "execution_count": 18,
     "metadata": {},
     "output_type": "execute_result"
    }
   ],
   "source": [
    "data_students['federal_state'].unique()"
   ]
  },
  {
   "cell_type": "code",
   "execution_count": 19,
   "metadata": {},
   "outputs": [],
   "source": [
    "#rename federal states in English\n",
    "data_students.replace('Nordrhein-Westfalen', 'North Rhein-Westphalia', inplace=True)\n",
    "data_students.replace('Niedersachsen', 'Lower Saxony', inplace=True)\n",
    "data_students.replace('Sachsen', 'Saxony', inplace=True)\n",
    "data_students.replace('Sachsen-Anhalt', 'Saxony-Anhalt', inplace=True)"
   ]
  },
  {
   "cell_type": "code",
   "execution_count": 20,
   "metadata": {},
   "outputs": [
    {
     "data": {
      "text/plain": [
       "array(['Baden-Württemberg', 'Bayern', 'Berlin', 'Brandenburg', 'Bremen',\n",
       "       'Hamburg', 'Hessen', 'Mecklenburg-Vorpommern', 'Lower Saxony',\n",
       "       'North Rhein-Westphalia', 'Rheinland-Pfalz', 'Saarland', 'Saxony',\n",
       "       'Saxony-Anhalt', 'Schleswig-Holstein', 'Thüringen'], dtype=object)"
      ]
     },
     "execution_count": 20,
     "metadata": {},
     "output_type": "execute_result"
    }
   ],
   "source": [
    "data_students['federal_state'].unique()"
   ]
  },
  {
   "cell_type": "code",
   "execution_count": null,
   "metadata": {},
   "outputs": [],
   "source": [
    "data_students.to_csv('data/data_students.csv', index= False)"
   ]
  },
  {
   "cell_type": "code",
   "execution_count": 22,
   "metadata": {},
   "outputs": [],
   "source": [
    "#create new data frames for each semester\n",
    "students_18= data_students[data_students['semester'] == 'WT 2018/19']\n",
    "students_19 = data_students[data_students['semester'] == 'WT 2019/20']\n",
    "students_20 = data_students[data_students['semester'] == 'WT 2020/21']\n",
    "students_21 = data_students[data_students['semester'] == 'WT 2021/22']"
   ]
  },
  {
   "cell_type": "code",
   "execution_count": 23,
   "metadata": {},
   "outputs": [
    {
     "name": "stdout",
     "output_type": "stream",
     "text": [
      "<class 'pandas.core.frame.DataFrame'>\n",
      "Int64Index: 2078 entries, 3 to 4687\n",
      "Data columns (total 7 columns):\n",
      " #   Column         Non-Null Count  Dtype \n",
      "---  ------         --------------  ----- \n",
      " 0   semester       2078 non-null   object\n",
      " 1   federal_state  2078 non-null   object\n",
      " 2   study_code     2078 non-null   object\n",
      " 3   study_subject  2078 non-null   object\n",
      " 4   total_males    2078 non-null   int64 \n",
      " 5   total_females  2078 non-null   int64 \n",
      " 6   total_all      2078 non-null   int64 \n",
      "dtypes: int64(3), object(4)\n",
      "memory usage: 129.9+ KB\n"
     ]
    }
   ],
   "source": [
    "students_18.info()"
   ]
  },
  {
   "cell_type": "code",
   "execution_count": 24,
   "metadata": {},
   "outputs": [
    {
     "data": {
      "text/html": [
       "<div>\n",
       "<style scoped>\n",
       "    .dataframe tbody tr th:only-of-type {\n",
       "        vertical-align: middle;\n",
       "    }\n",
       "\n",
       "    .dataframe tbody tr th {\n",
       "        vertical-align: top;\n",
       "    }\n",
       "\n",
       "    .dataframe thead th {\n",
       "        text-align: right;\n",
       "    }\n",
       "</style>\n",
       "<table border=\"1\" class=\"dataframe\">\n",
       "  <thead>\n",
       "    <tr style=\"text-align: right;\">\n",
       "      <th></th>\n",
       "      <th>total_males</th>\n",
       "      <th>total_females</th>\n",
       "      <th>total_all</th>\n",
       "    </tr>\n",
       "  </thead>\n",
       "  <tbody>\n",
       "    <tr>\n",
       "      <th>count</th>\n",
       "      <td>2078.000000</td>\n",
       "      <td>2078.000000</td>\n",
       "      <td>2078.000000</td>\n",
       "    </tr>\n",
       "    <tr>\n",
       "      <th>mean</th>\n",
       "      <td>102.236285</td>\n",
       "      <td>107.167950</td>\n",
       "      <td>209.404235</td>\n",
       "    </tr>\n",
       "    <tr>\n",
       "      <th>std</th>\n",
       "      <td>285.599847</td>\n",
       "      <td>261.400733</td>\n",
       "      <td>498.351492</td>\n",
       "    </tr>\n",
       "    <tr>\n",
       "      <th>min</th>\n",
       "      <td>1.000000</td>\n",
       "      <td>1.000000</td>\n",
       "      <td>2.000000</td>\n",
       "    </tr>\n",
       "    <tr>\n",
       "      <th>25%</th>\n",
       "      <td>9.000000</td>\n",
       "      <td>11.000000</td>\n",
       "      <td>25.000000</td>\n",
       "    </tr>\n",
       "    <tr>\n",
       "      <th>50%</th>\n",
       "      <td>26.000000</td>\n",
       "      <td>32.000000</td>\n",
       "      <td>63.500000</td>\n",
       "    </tr>\n",
       "    <tr>\n",
       "      <th>75%</th>\n",
       "      <td>75.000000</td>\n",
       "      <td>93.000000</td>\n",
       "      <td>177.000000</td>\n",
       "    </tr>\n",
       "    <tr>\n",
       "      <th>max</th>\n",
       "      <td>4173.000000</td>\n",
       "      <td>4430.000000</td>\n",
       "      <td>7996.000000</td>\n",
       "    </tr>\n",
       "  </tbody>\n",
       "</table>\n",
       "</div>"
      ],
      "text/plain": [
       "       total_males  total_females    total_all\n",
       "count  2078.000000    2078.000000  2078.000000\n",
       "mean    102.236285     107.167950   209.404235\n",
       "std     285.599847     261.400733   498.351492\n",
       "min       1.000000       1.000000     2.000000\n",
       "25%       9.000000      11.000000    25.000000\n",
       "50%      26.000000      32.000000    63.500000\n",
       "75%      75.000000      93.000000   177.000000\n",
       "max    4173.000000    4430.000000  7996.000000"
      ]
     },
     "execution_count": 24,
     "metadata": {},
     "output_type": "execute_result"
    }
   ],
   "source": [
    "#understand the data\n",
    "students_18[['federal_state', 'total_males', 'total_females', 'total_all']].describe()"
   ]
  },
  {
   "cell_type": "code",
   "execution_count": 25,
   "metadata": {},
   "outputs": [
    {
     "data": {
      "text/plain": [
       "265"
      ]
     },
     "execution_count": 25,
     "metadata": {},
     "output_type": "execute_result"
    }
   ],
   "source": [
    "students_18['study_subject'].nunique()"
   ]
  },
  {
   "cell_type": "code",
   "execution_count": 26,
   "metadata": {},
   "outputs": [
    {
     "data": {
      "image/png": "[encoded data removed]",
      "text/plain": [
       "<Figure size 640x480 with 1 Axes>"
      ]
     },
     "metadata": {},
     "output_type": "display_data"
    }
   ],
   "source": [
    "# Group data by 'federal_state' and sum the values of 'total_all' for each group\n",
    "grouped = students_18.groupby('federal_state')['total_all'].sum()\n",
    "\n",
    "# Plot the grouped data as a bar graph\n",
    "grouped.plot.bar()\n",
    "\n",
    "# Add a title and label for the y-axis\n",
    "plt.title(\"Total Number of Students per Federal State\")\n",
    "plt.ylabel(\"Total Number of Students\")\n",
    "\n",
    "# Show the graph\n",
    "plt.show()\n",
    "\n",
    "\n"
   ]
  },
  {
   "cell_type": "code",
   "execution_count": 27,
   "metadata": {},
   "outputs": [],
   "source": [
    "students_18_NRW = students_18[students_18['federal_state'] == 'Nordrhein-Westfalen']\n"
   ]
  },
  {
   "cell_type": "code",
   "execution_count": 29,
   "metadata": {},
   "outputs": [
    {
     "data": {
      "text/plain": [
       "269"
      ]
     },
     "execution_count": 29,
     "metadata": {},
     "output_type": "execute_result"
    }
   ],
   "source": [
    "data_students['study_subject'].nunique()"
   ]
  },
  {
   "cell_type": "code",
   "execution_count": 148,
   "metadata": {},
   "outputs": [],
   "source": [
    "#create a new csv file\n",
    "students_18.to_csv('data/students_18.csv', index= False)\n",
    "students_19.to_csv('data/students_19.csv', index= False)\n",
    "students_20.to_csv('data/students_20.csv', index= False)\n",
    "students_21.to_csv('data/students_21.csv', index= False)"
   ]
  },
  {
   "cell_type": "code",
   "execution_count": null,
   "metadata": {},
   "outputs": [],
   "source": []
  }
 ],
 "metadata": {
  "kernelspec": {
   "display_name": "nf_base",
   "language": "python",
   "name": "python3"
  },
  "language_info": {
   "codemirror_mode": {
    "name": "ipython",
    "version": 3
   },
   "file_extension": ".py",
   "mimetype": "text/x-python",
   "name": "python",
   "nbconvert_exporter": "python",
   "pygments_lexer": "ipython3",
   "version": "3.9.15 | packaged by conda-forge | (main, Nov 22 2022, 08:48:25) \n[Clang 14.0.6 ]"
  },
  "orig_nbformat": 4,
  "vscode": {
   "interpreter": {
    "hash": "ab3d85a18739f6fff6a9c8c504adc2ff9340867b576dede986e2ee74c099e4e5"
   }
  }
 },
 "nbformat": 4,
 "nbformat_minor": 2
}
